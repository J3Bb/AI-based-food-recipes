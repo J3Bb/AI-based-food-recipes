{
 "cells": [
  {
   "cell_type": "code",
   "execution_count": 54,
   "metadata": {},
   "outputs": [],
   "source": [
    "# function untuk clear display\n",
    "from IPython.display import clear_output"
   ]
  },
  {
   "cell_type": "code",
   "execution_count": 42,
   "metadata": {},
   "outputs": [
    {
     "name": "stdout",
     "output_type": "stream",
     "text": [
      "Requirement already satisfied: fuzzywuzzy in c:\\users\\denzel\\appdata\\local\\programs\\python\\python313\\lib\\site-packages (0.18.0)\n",
      "Note: you may need to restart the kernel to use updated packages.\n"
     ]
    }
   ],
   "source": [
    "pip install fuzzywuzzy"
   ]
  },
  {
   "cell_type": "code",
   "execution_count": 43,
   "metadata": {},
   "outputs": [],
   "source": [
    "import json\n",
    "with open(\"Dataset/recipes.json\", \"r\") as file:\n",
    "    data = json.load(file)"
   ]
  },
  {
   "cell_type": "code",
   "execution_count": 44,
   "metadata": {},
   "outputs": [
    {
     "name": "stdout",
     "output_type": "stream",
     "text": [
      "Total recipes: 49\n",
      "Sample Recipe: {'recipe_name': 'Nasi Goreng', 'main_component': 'Nasi', 'ingredients': ['1 porsi nasi putih', '2 siung bawang merah', '2 siung bawang putih', 'kecap manis secukupnya', 'garam secukupnya', 'merica secukupnya', '100 gr ayam suwir', '1 butir telur', '1 batang daun bawang', 'minyak goreng secukupnya'], 'instructions': ['1.  Panaskan minyak, tumis bawang merah dan bawang putih hingga harum.', '2. Masukkan ayam suwir dan tumis hingga matang.', '3. Tambahkan nasi putih dan aduk rata.', '4. Bumbui dengan kecap manis, garam, dan merica.', '5. Goreng telur dan sajikan di atas nasi goreng.', '6. Taburi dengan daun bawang.'], 'prep_time': '10 minutes', 'cook_time': '15 minutes', 'servings': 2}\n"
     ]
    }
   ],
   "source": [
    "# untuk melihat jumlah resep di dataset dan melihat sample resep\n",
    "print(f\"Total recipes: {len(data)}\")\n",
    "print(\"Sample Recipe:\", data[0])"
   ]
  },
  {
   "cell_type": "code",
   "execution_count": 45,
   "metadata": {},
   "outputs": [],
   "source": [
    "# untuk mencari nama resep yang exact\n",
    "def find_recipe(food_name):\n",
    "  for recipe in data:\n",
    "    if recipe[\"recipe_name\"].lower() == food_name.lower():\n",
    "      return recipe\n",
    "  return None"
   ]
  },
  {
   "cell_type": "code",
   "execution_count": 46,
   "metadata": {},
   "outputs": [],
   "source": [
    "# mendisplay detail resep makanan\n",
    "def display_recipe(recipe):\n",
    "    if not recipe:\n",
    "        return\n",
    "\n",
    "    print(f\"Resep {recipe['recipe_name']}\")\n",
    "    print(\"\\nBahan:\")\n",
    "    for ingredient in recipe[\"ingredients\"]:\n",
    "        print(f\"- {ingredient}\")\n",
    "\n",
    "    print(\"\\nCara Pembuatan:\")\n",
    "    for step, instruction in enumerate(recipe[\"instructions\"], 1):\n",
    "        print(f\"{instruction}\")"
   ]
  },
  {
   "cell_type": "code",
   "execution_count": 47,
   "metadata": {},
   "outputs": [],
   "source": [
    "from fuzzywuzzy import process"
   ]
  },
  {
   "cell_type": "code",
   "execution_count": 74,
   "metadata": {},
   "outputs": [],
   "source": [
    "def find_closest_recipe(food_name):\n",
    "    recipe_names = [recipe[\"recipe_name\"] for recipe in data]\n",
    "    match, score = process.extractOne(food_name, recipe_names)\n",
    "    if score > 86:\n",
    "        return next(recipe for recipe in data if recipe[\"recipe_name\"] == match)\n",
    "    return None"
   ]
  },
  {
   "cell_type": "code",
   "execution_count": 49,
   "metadata": {},
   "outputs": [],
   "source": [
    "# untuk ngematch input user dengan main component di dataset\n",
    "def find_closest_comp(comp_name):\n",
    "    all_components = []\n",
    "    for recipe in data:\n",
    "        components = recipe.get(\"main_component\")\n",
    "        if isinstance(components, list):\n",
    "            all_components.extend([c.lower() for c in components])\n",
    "        elif isinstance(components, str):\n",
    "            all_components.append(components.lower())\n",
    "    match, score = process.extractOne(comp_name.lower(), all_components)\n",
    "    if score > 70:\n",
    "        return match # return nama main component yg cocok\n",
    "    return None"
   ]
  },
  {
   "cell_type": "code",
   "execution_count": 50,
   "metadata": {},
   "outputs": [],
   "source": [
    "# mendisplay list makanan dengan main component yang diinput user\n",
    "def list_food_by_main_component(main_component):\n",
    "    if not main_component:\n",
    "        return []\n",
    "\n",
    "    main_component = main_component.lower()\n",
    "    results = []\n",
    "    for recipe in data:\n",
    "        components = recipe.get(\"main_component\")\n",
    "        if isinstance(components, list):\n",
    "            if any(main_component == c.lower() for c in components):\n",
    "                results.append(recipe)\n",
    "        elif isinstance(components, str):\n",
    "            if main_component == components.lower():\n",
    "                results.append(recipe)\n",
    "    return results"
   ]
  },
  {
   "cell_type": "code",
   "execution_count": 84,
   "metadata": {},
   "outputs": [],
   "source": [
    "# function untuk looping\n",
    "def search_again():\n",
    "    clear_output(wait=True)\n",
    "    opt = input(\"\\nApakah anda ingin mencari resep makanan lain? (ya/tidak)\\n\")\n",
    "    if opt.lower() == 'tidak':\n",
    "        return False\n",
    "    return True"
   ]
  },
  {
   "cell_type": "code",
   "execution_count": 79,
   "metadata": {},
   "outputs": [],
   "source": [
    "def main():\n",
    "    while True:\n",
    "        clear_output(wait=True)\n",
    "        print(\"=== AI Resep Makanan ===\")\n",
    "        print(\"1. Cari berdasarkan nama makanan\")\n",
    "        print(\"2. Cari berdasarkan komponen utama makanan\")\n",
    "        print(\"3. Keluar\")\n",
    "\n",
    "        try:\n",
    "            print('\\nPilih opsi (1/2/3): ')\n",
    "            choice = int(input().strip())\n",
    "              \n",
    "            if choice == 1:\n",
    "                clear_output(wait=True)\n",
    "                print('Masukkan nama makanan yang ingin anda cari: ')\n",
    "                food_name = str(input())\n",
    "                recipe = find_recipe(food_name)\n",
    "                clear_output(wait=True)\n",
    "\n",
    "                if not recipe:\n",
    "                    recipe = find_closest_recipe(food_name)\n",
    "                    if not recipe:\n",
    "                        print(f\"Maaf, tidak ada resep dengan nama '{food_name}'.\\n\")\n",
    "                    else:\n",
    "                        print(f\"Apakah resep makanan ini yang anda cari?\\n\")\n",
    "\n",
    "                display_recipe(recipe)\n",
    "\n",
    "            elif choice == 2:\n",
    "                clear_output(wait=True)\n",
    "                print('\\nMasukkan komponen utama yang ingin dicari: ')\n",
    "                main_component = input()\n",
    "                closest_component = find_closest_comp(main_component)\n",
    "\n",
    "\n",
    "                if not closest_component:\n",
    "                    print(f\"Maaf, tidak ada resep yang mengandung '{main_component}'.\\n\")\n",
    "                    continue\n",
    "\n",
    "                recipes = list_food_by_main_component(closest_component)\n",
    "\n",
    "                if not recipes:\n",
    "                    print(f\"Maaf, tidak ada resep dengan komponen utama '{main_component}'.\\n\")\n",
    "                else:\n",
    "                    print(f\"Ditemukan {len(recipes)} resep dengan komponen utama '{closest_component}':\\n\")\n",
    "                    for idx, recipe in enumerate(recipes, 1):\n",
    "                        print(f\"{idx}. {recipe['recipe_name']}\")\n",
    "                    while True:\n",
    "                        try:\n",
    "                            sub_choice = int(input(\"\\nPilih nomor resep untuk melihat detailnya (0 untuk batal): \").strip())\n",
    "                            if sub_choice == 0:\n",
    "                                 print(\"Membatalkan pilihan.\")\n",
    "                                 break\n",
    "\n",
    "                            if 1 <= sub_choice <= len(recipes):\n",
    "                                selected_recipe = recipes[sub_choice - 1]\n",
    "                                clear_output(wait=True)\n",
    "                                display_recipe(selected_recipe)\n",
    "                                break\n",
    "                            else:\n",
    "                                 print(\"Nomor resep tidak valid, silakan masukkan angka yang sesuai.\")\n",
    "                        except ValueError:\n",
    "                            print(\"Input tidak valid, silakan masukkan angka.\")\n",
    "\n",
    "            elif choice == 3:\n",
    "                clear_output(wait=True)\n",
    "                print(\"** Exitting Program... **\")\n",
    "                break\n",
    "\n",
    "            else:\n",
    "                clear_output(wait=True)\n",
    "                print(\"Opsi tidak valid. Silakan coba lagi.\")\n",
    "\n",
    "        except ValueError:\n",
    "            clear_output(wait=True)\n",
    "            print(\"Input tidak valid. Silakan masukkan angka.\")\n",
    "\n",
    "        if not search_again():\n",
    "            clear_output(wait=True)\n",
    "            print(\"** Exitting Program... **\")\n",
    "            break"
   ]
  },
  {
   "cell_type": "code",
   "execution_count": 85,
   "metadata": {},
   "outputs": [
    {
     "name": "stdout",
     "output_type": "stream",
     "text": [
      "** Exitting Program... **\n"
     ]
    }
   ],
   "source": [
    "main()"
   ]
  }
 ],
 "metadata": {
  "kernelspec": {
   "display_name": "Python 3",
   "language": "python",
   "name": "python3"
  },
  "language_info": {
   "codemirror_mode": {
    "name": "ipython",
    "version": 3
   },
   "file_extension": ".py",
   "mimetype": "text/x-python",
   "name": "python",
   "nbconvert_exporter": "python",
   "pygments_lexer": "ipython3",
   "version": "3.13.1"
  }
 },
 "nbformat": 4,
 "nbformat_minor": 2
}
